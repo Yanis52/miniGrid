{
 "cells": [
  {
   "cell_type": "code",
   "execution_count": null,
   "metadata": {},
   "outputs": [],
   "source": [
    "import os\n",
    "import pickle\n",
    "import gymnasium as gym\n",
    "import numpy as np\n",
    "import neat\n",
    "from gym.vector.utils import spaces\n",
    "from neat import DefaultSpeciesSet, DefaultReproduction, DefaultStagnation\n",
    "from neat.config import Config\n",
    "from neat.genome import DefaultGenome\n",
    "from neat.population import Population\n",
    "from neat.reporting import StdOutReporter\n",
    "from configparser import ConfigParser\n",
    "import minigrid\n",
    "from minigrid.core.mission import MissionSpace"
   ]
  },
  {
   "cell_type": "code",
   "execution_count": null,
   "metadata": {},
   "outputs": [],
   "source": [
    "# Chargement de la configuration\n",
    "config = Config(\n",
    "    genome_type=DefaultGenome,\n",
    "    reproduction_type=DefaultReproduction,\n",
    "    species_set_type=DefaultSpeciesSet,\n",
    "    stagnation_type=DefaultStagnation,\n",
    "    filename='neat_config.txt'\n",
    ")"
   ]
  },
  {
   "cell_type": "code",
   "execution_count": null,
   "metadata": {},
   "outputs": [],
   "source": [
    "# Initialisation correcte des sous-espaces\n",
    "agent_pos_space = spaces.Box(\n",
    "    low=np.array([0, 0]),\n",
    "    high=np.array([15, 15]),  # Pour 16x16 grid\n",
    "    dtype=int\n",
    ")\n",
    " \n",
    "goal_pos_space = spaces.Box(\n",
    "    low=np.array([0, 0]),\n",
    "    high=np.array([15, 15]),\n",
    "    dtype=int\n",
    ")\n",
    " \n",
    "observation_space = spaces.Dict({\n",
    "    'direction': spaces.Discrete(4),\n",
    "    'mission': goal_pos_space,\n",
    "    'image': spaces.Box(0, 255, (7,7,3), np.uint8)\n",
    "})"
   ]
  },
  {
   "cell_type": "code",
   "execution_count": null,
   "metadata": {},
   "outputs": [],
   "source": [
    "actions = {\n",
    "    0: 'turn_left',  # Rotation gauche\n",
    "    1: 'turn_right',  # Rotation droite\n",
    "    2: 'move_forward',  # Avancer\n",
    "    3: 'pickup',  # Prendre objet\n",
    "    4: 'drop',  # Déposer objet\n",
    "    5: 'toggle',  # Interagir\n",
    "    6: 'done'  # Terminer l'épisode\n",
    "}\n",
    " "
   ]
  },
  {
   "cell_type": "code",
   "execution_count": null,
   "metadata": {},
   "outputs": [],
   "source": [
    "# Initialisation de l'environnement\n",
    "env = gym.make('MiniGrid-Empty-Random-6x6-v0', render_mode='human')\n",
    "env = env.unwrapped"
   ]
  },
  {
   "cell_type": "code",
   "execution_count": null,
   "metadata": {},
   "outputs": [],
   "source": [
    "# Préprocessing des observations\n",
    "def preprocess_obs(obs):\n",
    "    # Conversion de l'image et normalisation\n",
    "    img = obs['image'].astype(np.float32) / 255.0\n",
    "    img_flat = img.flatten()\n",
    " \n",
    "    # Encodage direction (0-3)\n",
    "    direction = obs['direction']\n",
    "    direction_oh = np.zeros(4)\n",
    "    direction_oh[direction] = 1.0\n",
    " \n",
    "    return np.concatenate([img_flat, direction_oh])"
   ]
  },
  {
   "cell_type": "code",
   "execution_count": null,
   "metadata": {},
   "outputs": [],
   "source": [
    "# Évaluation des génomes\n",
    "def eval_genomes(genomes, config):\n",
    "    for genome_id, genome in genomes:\n",
    "        net = neat.nn.FeedForwardNetwork.create(genome, config)\n",
    "        total_reward = 0\n",
    " \n",
    "        for _ in range(3):  # nombre d'essais\n",
    "            obs, _ = env.reset()\n",
    "            episode_reward = 0\n",
    "            previous_pos = None\n",
    " \n",
    "            for step in range(50):\n",
    "                inputs = preprocess_obs(obs)\n",
    "                action = np.argmax(net.activate(inputs))\n",
    " \n",
    "                obs, reward, done, _, _ = env.step(action)\n",
    " \n",
    "                # Récompense de progression\n",
    "                current_pos = env.agent_pos\n",
    "                if current_pos != previous_pos:\n",
    "                    episode_reward += 0.1\n",
    "                    previous_pos = current_pos\n",
    " \n",
    "                if done:\n",
    "                    episode_reward += 15  # Bonus pour réussite\n",
    "                    break\n",
    "                else:\n",
    "                    episode_reward -= 5\n",
    " \n",
    "            total_reward += episode_reward\n",
    " \n",
    "        genome.fitness = total_reward / 3"
   ]
  },
  {
   "cell_type": "code",
   "execution_count": null,
   "metadata": {},
   "outputs": [],
   "source": [
    "# Entraînement\n",
    "def run_neat():\n",
    "    population = Population(config)\n",
    "    population.add_reporter(StdOutReporter(True))\n",
    " \n",
    "    stats = neat.StatisticsReporter()\n",
    "    population.add_reporter(stats)\n",
    " \n",
    "    winner = population.run(eval_genomes, 200)\n",
    "    with open('winner.pkl', 'wb') as f:\n",
    "        pickle.dump(winner, f)\n",
    " \n",
    "    return winner"
   ]
  },
  {
   "cell_type": "code",
   "execution_count": null,
   "metadata": {},
   "outputs": [],
   "source": [
    "# Visualisation de l'agent entraîné\n",
    "def visualize_best_agent(genome, config):\n",
    "    net = neat.nn.FeedForwardNetwork.create(genome, config)\n",
    "    obs, _ = env.reset()\n",
    "    env.render()\n",
    " \n",
    "    while True:\n",
    "        action = np.argmax(net.activate(preprocess_obs(obs)))\n",
    "        obs, reward, done, _, _ = env.step(action)\n",
    "        env.render()\n",
    " \n",
    "        if done:\n",
    "            break\n",
    " \n",
    " "
   ]
  },
  {
   "cell_type": "code",
   "execution_count": null,
   "metadata": {},
   "outputs": [],
   "source": [
    "if __name__ == \"__main__\":\n",
    "    if os.path.exists('winner.pkl'):\n",
    "        with open('winner.pkl', 'rb') as f:\n",
    "            best_genome = pickle.load(f)\n",
    " \n",
    "        genomes = [(0, best_genome)]\n",
    "        eval_genomes(genomes, config)\n",
    "    else:\n",
    "        best_genome = run_neat()\n",
    "        visualize_best_agent(best_genome, config)"
   ]
  },
  {
   "cell_type": "code",
   "execution_count": null,
   "metadata": {},
   "outputs": [],
   "source": []
  }
 ],
 "metadata": {
  "language_info": {
   "name": "python"
  }
 },
 "nbformat": 4,
 "nbformat_minor": 2
}
