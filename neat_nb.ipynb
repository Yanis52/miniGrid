{
 "cells": [
  {
   "cell_type": "code",
   "metadata": {
    "ExecuteTime": {
     "end_time": "2025-04-04T14:24:21.488622Z",
     "start_time": "2025-04-04T14:24:19.730155Z"
    }
   },
   "source": [
    "!pip install gymnasium neat-python minigrid\n",
    "import os\n",
    "import pickle\n",
    "import gymnasium as gym\n",
    "import numpy as np\n",
    "import neat\n",
    "from gym.vector.utils import spaces\n",
    "from neat import DefaultSpeciesSet, DefaultReproduction, DefaultStagnation\n",
    "from neat.config import Config\n",
    "from neat.genome import DefaultGenome\n",
    "from neat.population import Population\n",
    "from neat.reporting import StdOutReporter\n",
    "from configparser import ConfigParser\n",
    "import minigrid\n",
    "from minigrid.core.mission import MissionSpace"
   ],
   "outputs": [
    {
     "name": "stdout",
     "output_type": "stream",
     "text": [
      "Requirement already satisfied: gymnasium in c:\\users\\enzo\\miniconda3\\envs\\dql\\lib\\site-packages (1.1.1)\n",
      "Requirement already satisfied: neat-python in c:\\users\\enzo\\miniconda3\\envs\\dql\\lib\\site-packages (0.92)\n",
      "Requirement already satisfied: minigrid in c:\\users\\enzo\\miniconda3\\envs\\dql\\lib\\site-packages (3.0.0)\n",
      "Requirement already satisfied: numpy>=1.21.0 in c:\\users\\enzo\\miniconda3\\envs\\dql\\lib\\site-packages (from gymnasium) (2.1.3)\n",
      "Requirement already satisfied: cloudpickle>=1.2.0 in c:\\users\\enzo\\miniconda3\\envs\\dql\\lib\\site-packages (from gymnasium) (3.1.1)\n",
      "Requirement already satisfied: typing-extensions>=4.3.0 in c:\\users\\enzo\\miniconda3\\envs\\dql\\lib\\site-packages (from gymnasium) (4.12.2)\n",
      "Requirement already satisfied: farama-notifications>=0.0.1 in c:\\users\\enzo\\miniconda3\\envs\\dql\\lib\\site-packages (from gymnasium) (0.0.4)\n",
      "Requirement already satisfied: pygame>=2.4.0 in c:\\users\\enzo\\miniconda3\\envs\\dql\\lib\\site-packages (from minigrid) (2.6.1)\n"
     ]
    }
   ],
   "execution_count": 2
  },
  {
   "cell_type": "code",
   "metadata": {
    "ExecuteTime": {
     "end_time": "2025-04-04T14:24:21.496498Z",
     "start_time": "2025-04-04T14:24:21.491080Z"
    }
   },
   "source": [
    "# Chargement de la configuration\n",
    "config = Config(\n",
    "    genome_type=DefaultGenome,\n",
    "    reproduction_type=DefaultReproduction,\n",
    "    species_set_type=DefaultSpeciesSet,\n",
    "    stagnation_type=DefaultStagnation,\n",
    "    filename='neat_config.txt'\n",
    ")"
   ],
   "outputs": [],
   "execution_count": 3
  },
  {
   "cell_type": "code",
   "metadata": {
    "ExecuteTime": {
     "end_time": "2025-04-04T14:24:21.508664Z",
     "start_time": "2025-04-04T14:24:21.504930Z"
    }
   },
   "source": [
    "# Initialisation correcte des sous-espaces\n",
    "agent_pos_space = spaces.Box(\n",
    "    low=np.array([0, 0]),\n",
    "    high=np.array([15, 15]),  # Pour 16x16 grid\n",
    "    dtype=int\n",
    ")\n",
    " \n",
    "goal_pos_space = spaces.Box(\n",
    "    low=np.array([0, 0]),\n",
    "    high=np.array([15, 15]),\n",
    "    dtype=int\n",
    ")\n",
    " \n",
    "observation_space = spaces.Dict({\n",
    "    'direction': spaces.Discrete(4),\n",
    "    'mission': goal_pos_space,\n",
    "    'image': spaces.Box(0, 255, (7,7,3), np.uint8)\n",
    "})"
   ],
   "outputs": [],
   "execution_count": 4
  },
  {
   "cell_type": "code",
   "metadata": {
    "ExecuteTime": {
     "end_time": "2025-04-04T14:24:21.515453Z",
     "start_time": "2025-04-04T14:24:21.513475Z"
    }
   },
   "source": [
    "actions = {\n",
    "    0: 'turn_left',  # Rotation gauche\n",
    "    1: 'turn_right',  # Rotation droite\n",
    "    2: 'move_forward',  # Avancer\n",
    "    3: 'pickup',  # Prendre objet\n",
    "    4: 'drop',  # Déposer objet\n",
    "    5: 'toggle',  # Interagir\n",
    "    6: 'done'  # Terminer l'épisode\n",
    "}\n",
    " "
   ],
   "outputs": [],
   "execution_count": 5
  },
  {
   "cell_type": "code",
   "metadata": {
    "ExecuteTime": {
     "end_time": "2025-04-04T14:24:21.528425Z",
     "start_time": "2025-04-04T14:24:21.525136Z"
    }
   },
   "source": [
    "# Initialisation de l'environnement\n",
    "env = gym.make('MiniGrid-Empty-Random-6x6-v0', render_mode='human')\n",
    "env = env.unwrapped"
   ],
   "outputs": [],
   "execution_count": 6
  },
  {
   "cell_type": "code",
   "metadata": {
    "ExecuteTime": {
     "end_time": "2025-04-04T14:24:21.536260Z",
     "start_time": "2025-04-04T14:24:21.533256Z"
    }
   },
   "source": [
    "# Préprocessing des observations\n",
    "def preprocess_obs(obs):\n",
    "    # Conversion de l'image et normalisation\n",
    "    img = obs['image'].astype(np.float32) / 255.0\n",
    "    img_flat = img.flatten()\n",
    " \n",
    "    # Encodage direction (0-3)\n",
    "    direction = obs['direction']\n",
    "    direction_oh = np.zeros(4)\n",
    "    direction_oh[direction] = 1.0\n",
    " \n",
    "    return np.concatenate([img_flat, direction_oh])"
   ],
   "outputs": [],
   "execution_count": 7
  },
  {
   "cell_type": "code",
   "metadata": {
    "ExecuteTime": {
     "end_time": "2025-04-04T14:24:21.543732Z",
     "start_time": "2025-04-04T14:24:21.539728Z"
    }
   },
   "source": [
    "# Évaluation des génomes\n",
    "def eval_genomes(genomes, config):\n",
    "    for genome_id, genome in genomes:\n",
    "        net = neat.nn.FeedForwardNetwork.create(genome, config)\n",
    "        total_reward = 0\n",
    " \n",
    "        for _ in range(3):  # nombre d'essais\n",
    "            obs, _ = env.reset()\n",
    "            episode_reward = 0\n",
    "            previous_pos = None\n",
    " \n",
    "            for step in range(50):\n",
    "                inputs = preprocess_obs(obs)\n",
    "                action = np.argmax(net.activate(inputs))\n",
    " \n",
    "                obs, reward, done, _, _ = env.step(action)\n",
    " \n",
    "                # Récompense de progression\n",
    "                current_pos = env.agent_pos\n",
    "                if current_pos != previous_pos:\n",
    "                    episode_reward += 0.1\n",
    "                    previous_pos = current_pos\n",
    " \n",
    "                if done:\n",
    "                    episode_reward += 15  # Bonus pour réussite\n",
    "                    break\n",
    "                else:\n",
    "                    episode_reward -= 5\n",
    " \n",
    "            total_reward += episode_reward\n",
    " \n",
    "        genome.fitness = total_reward / 3"
   ],
   "outputs": [],
   "execution_count": 8
  },
  {
   "cell_type": "code",
   "metadata": {
    "ExecuteTime": {
     "end_time": "2025-04-04T14:24:21.550343Z",
     "start_time": "2025-04-04T14:24:21.547241Z"
    }
   },
   "source": [
    "# Entraînement\n",
    "def run_neat():\n",
    "    population = Population(config)\n",
    "    population.add_reporter(StdOutReporter(True))\n",
    " \n",
    "    stats = neat.StatisticsReporter()\n",
    "    population.add_reporter(stats)\n",
    " \n",
    "    winner = population.run(eval_genomes, 200)\n",
    "    with open('winner.pkl', 'wb') as f:\n",
    "        pickle.dump(winner, f)\n",
    " \n",
    "    return winner"
   ],
   "outputs": [],
   "execution_count": 9
  },
  {
   "cell_type": "code",
   "metadata": {
    "ExecuteTime": {
     "end_time": "2025-04-04T14:24:21.557708Z",
     "start_time": "2025-04-04T14:24:21.554704Z"
    }
   },
   "source": [
    "# Visualisation de l'agent entraîné\n",
    "def visualize_best_agent(genome, config):\n",
    "    net = neat.nn.FeedForwardNetwork.create(genome, config)\n",
    "    obs, _ = env.reset()\n",
    "    env.render()\n",
    " \n",
    "    while True:\n",
    "        action = np.argmax(net.activate(preprocess_obs(obs)))\n",
    "        obs, reward, done, _, _ = env.step(action)\n",
    "        env.render()\n",
    " \n",
    "        if done:\n",
    "            break\n",
    " \n",
    " "
   ],
   "outputs": [],
   "execution_count": 10
  },
  {
   "cell_type": "code",
   "metadata": {
    "ExecuteTime": {
     "end_time": "2025-04-04T14:24:25.673288Z",
     "start_time": "2025-04-04T14:24:21.562521Z"
    }
   },
   "source": [
    "if __name__ == \"__main__\":\n",
    "    if os.path.exists('winner.pkl'):\n",
    "        with open('winner.pkl', 'rb') as f:\n",
    "            best_genome = pickle.load(f)\n",
    " \n",
    "        genomes = [(0, best_genome)]\n",
    "        eval_genomes(genomes, config)\n",
    "    else:\n",
    "        best_genome = run_neat()\n",
    "        visualize_best_agent(best_genome, config)\n",
    "    env.close()"
   ],
   "outputs": [],
   "execution_count": 11
  },
  {
   "cell_type": "code",
   "metadata": {
    "ExecuteTime": {
     "end_time": "2025-04-04T14:24:25.685709Z",
     "start_time": "2025-04-04T14:24:25.683669Z"
    }
   },
   "source": [],
   "outputs": [],
   "execution_count": null
  }
 ],
 "metadata": {
  "language_info": {
   "name": "python"
  },
  "kernelspec": {
   "name": "python3",
   "language": "python",
   "display_name": "Python 3 (ipykernel)"
  }
 },
 "nbformat": 4,
 "nbformat_minor": 2
}
